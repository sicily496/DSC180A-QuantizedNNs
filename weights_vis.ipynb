{
 "cells": [
  {
   "cell_type": "code",
   "execution_count": 26,
   "metadata": {},
   "outputs": [],
   "source": [
    "import torch\n",
    "import torch.nn as nn\n",
    "from torchvision.models import resnet18\n",
    "import os\n",
    "import numpy as np\n",
    "import matplotlib.pyplot as plt\n"
   ]
  },
  {
   "cell_type": "code",
   "execution_count": 8,
   "metadata": {},
   "outputs": [],
   "source": [
    "# Define the ResNet18ForCIFAR10 class\n",
    "class ResNet18ForCIFAR10(nn.Module):\n",
    "    def __init__(self, num_classes=10):\n",
    "        super(ResNet18ForCIFAR10, self).__init__()\n",
    "        self.model = resnet18(pretrained=False)\n",
    "        self.model.conv1 = nn.Conv2d(3, 64, kernel_size=3, stride=1, padding=1, bias=False)  # Adjust for CIFAR10\n",
    "        self.model.fc = nn.Linear(self.model.fc.in_features, num_classes)\n",
    "\n",
    "    def forward(self, x):\n",
    "        return self.model(x)"
   ]
  },
  {
   "cell_type": "code",
   "execution_count": 21,
   "metadata": {},
   "outputs": [],
   "source": [
    "def load_and_inspect_model(file_path):\n",
    "    # Check if the file exists\n",
    "    if not os.path.exists(file_path):\n",
    "        print(f\"File not found: {file_path}\")\n",
    "        return\n",
    "    \n",
    "    # Load the .pt file\n",
    "    model_data = torch.load(file_path, map_location=torch.device(\"cpu\"))\n",
    "    \n",
    "    # Check if the .pt file contains a full model or just a state_dict\n",
    "    if isinstance(model_data, nn.Module):\n",
    "        print(\"Loaded a complete model.\\n\")\n",
    "        # print(model_data)  # Print the model architecture\n",
    "\n",
    "        # Print weights\n",
    "        # print(\"\\nInspecting model parameters:\\n\")\n",
    "        # for name, param in model_data.named_parameters():\n",
    "        #     print(f\"Layer: {name} | Shape: {param.shape}\")\n",
    "        #     print(param)  # Print the actual weights\n",
    "        weights = []\n",
    "    \n",
    "        # Loop through all parameters of the model\n",
    "        for param in model_data.parameters():\n",
    "            weights.append(param.detach().cpu().numpy().flatten())  # Convert to NumPy and flatten\n",
    "        \n",
    "        # Concatenate all weights into a single 1D array\n",
    "        flat_weights = np.concatenate(weights)\n",
    "        return flat_weights\n",
    "\n",
    "    else:\n",
    "        print(\"The .pt file content is neither a full model nor a state_dict. Please check the file format.\")"
   ]
  },
  {
   "cell_type": "code",
   "execution_count": 22,
   "metadata": {},
   "outputs": [
    {
     "name": "stdout",
     "output_type": "stream",
     "text": [
      "Loaded a complete model.\n",
      "\n"
     ]
    }
   ],
   "source": [
    "# usage\n",
    "file_path = \"quantized_models/resnet18/dsCIFAR10_b4_batch256_mlpscalar1.16_cnnscalar1.16_mlppercentile1_cnnpercentile1_retain_rate0.25_regNone_lambda0.1.pt\"  # Replace with the path to your .pt file\n",
    "weights_1d = load_and_inspect_model(file_path)"
   ]
  },
  {
   "cell_type": "code",
   "execution_count": 32,
   "metadata": {},
   "outputs": [
    {
     "data": {
      "text/plain": [
       "Text(0, 0.5, 'Frequency')"
      ]
     },
     "execution_count": 32,
     "metadata": {},
     "output_type": "execute_result"
    },
    {
     "data": {
      "image/png": "[encoded data removed]",
      "text/plain": [
       "<Figure size 1200x600 with 1 Axes>"
      ]
     },
     "metadata": {},
     "output_type": "display_data"
    }
   ],
   "source": [
    "# visualize the weights distribution with a bar plot\n",
    "\n",
    "plt.figure(figsize=(12, 6))\n",
    "plt.hist(weights_1d, bins=100, color=\"blue\", alpha=0.7)\n",
    "plt.title(\"Weight Distribution\")\n",
    "plt.xlabel(\"Weight Value\")\n",
    "plt.ylabel(\"Frequency\")"
   ]
  },
  {
   "cell_type": "code",
   "execution_count": null,
   "metadata": {},
   "outputs": [],
   "source": []
  }
 ],
 "metadata": {
  "kernelspec": {
   "display_name": "quantize",
   "language": "python",
   "name": "python3"
  },
  "language_info": {
   "codemirror_mode": {
    "name": "ipython",
    "version": 3
   },
   "file_extension": ".py",
   "mimetype": "text/x-python",
   "name": "python",
   "nbconvert_exporter": "python",
   "pygments_lexer": "ipython3",
   "version": "3.8.20"
  }
 },
 "nbformat": 4,
 "nbformat_minor": 2
}
