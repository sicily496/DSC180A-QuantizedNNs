{
 "cells": [
  {
   "cell_type": "code",
   "execution_count": 1,
   "metadata": {},
   "outputs": [],
   "source": [
    "import pandas as pd\n",
    "import plotly.express as px\n",
    "import matplotlib.pyplot as plt"
   ]
  },
  {
   "cell_type": "code",
   "execution_count": 2,
   "metadata": {},
   "outputs": [
    {
     "data": {
      "text/html": [
       "<div>\n",
       "<style scoped>\n",
       "    .dataframe tbody tr th:only-of-type {\n",
       "        vertical-align: middle;\n",
       "    }\n",
       "\n",
       "    .dataframe tbody tr th {\n",
       "        vertical-align: top;\n",
       "    }\n",
       "\n",
       "    .dataframe thead th {\n",
       "        text-align: right;\n",
       "    }\n",
       "</style>\n",
       "<table border=\"1\" class=\"dataframe\">\n",
       "  <thead>\n",
       "    <tr style=\"text-align: right;\">\n",
       "      <th></th>\n",
       "      <th>Model Name</th>\n",
       "      <th>Dataset</th>\n",
       "      <th>Quantization Batch Size</th>\n",
       "      <th>Original Top1 Accuracy</th>\n",
       "      <th>Quantized Top1 Accuracy</th>\n",
       "      <th>Original Top5 Accuracy</th>\n",
       "      <th>Quantized Top5 Accuracy</th>\n",
       "      <th>Bits</th>\n",
       "      <th>MLP_Alphabet_Scalar</th>\n",
       "      <th>CNN_Alphabet_Scalar</th>\n",
       "      <th>MLP_Percentile</th>\n",
       "      <th>CNN_Percentile</th>\n",
       "      <th>Stochastic Quantization</th>\n",
       "      <th>Regularizer</th>\n",
       "      <th>Lambda</th>\n",
       "      <th>Original Sparsity</th>\n",
       "      <th>Quantized Sparsity</th>\n",
       "      <th>Retain_rate</th>\n",
       "      <th>Fusion</th>\n",
       "      <th>Seed</th>\n",
       "    </tr>\n",
       "  </thead>\n",
       "  <tbody>\n",
       "    <tr>\n",
       "      <th>4</th>\n",
       "      <td>resnet18</td>\n",
       "      <td>CIFAR10</td>\n",
       "      <td>256</td>\n",
       "      <td>0.9259</td>\n",
       "      <td>0.9104</td>\n",
       "      <td>0.9974</td>\n",
       "      <td>0.9953</td>\n",
       "      <td>4</td>\n",
       "      <td>1.00</td>\n",
       "      <td>1.00</td>\n",
       "      <td>1</td>\n",
       "      <td>1</td>\n",
       "      <td>False</td>\n",
       "      <td>NaN</td>\n",
       "      <td>0.1</td>\n",
       "      <td>0</td>\n",
       "      <td>0.5207</td>\n",
       "      <td>0.25</td>\n",
       "      <td>False</td>\n",
       "      <td>0</td>\n",
       "    </tr>\n",
       "    <tr>\n",
       "      <th>14</th>\n",
       "      <td>resnet18</td>\n",
       "      <td>CIFAR10</td>\n",
       "      <td>256</td>\n",
       "      <td>0.9259</td>\n",
       "      <td>0.9107</td>\n",
       "      <td>0.9974</td>\n",
       "      <td>0.9961</td>\n",
       "      <td>4</td>\n",
       "      <td>1.00</td>\n",
       "      <td>1.00</td>\n",
       "      <td>1</td>\n",
       "      <td>1</td>\n",
       "      <td>False</td>\n",
       "      <td>NaN</td>\n",
       "      <td>0.1</td>\n",
       "      <td>0</td>\n",
       "      <td>0.5221</td>\n",
       "      <td>0.25</td>\n",
       "      <td>False</td>\n",
       "      <td>0</td>\n",
       "    </tr>\n",
       "    <tr>\n",
       "      <th>15</th>\n",
       "      <td>resnet18</td>\n",
       "      <td>CIFAR10</td>\n",
       "      <td>256</td>\n",
       "      <td>0.9259</td>\n",
       "      <td>0.9100</td>\n",
       "      <td>0.9974</td>\n",
       "      <td>0.9970</td>\n",
       "      <td>4</td>\n",
       "      <td>1.05</td>\n",
       "      <td>1.05</td>\n",
       "      <td>1</td>\n",
       "      <td>1</td>\n",
       "      <td>False</td>\n",
       "      <td>NaN</td>\n",
       "      <td>0.1</td>\n",
       "      <td>0</td>\n",
       "      <td>0.5327</td>\n",
       "      <td>0.25</td>\n",
       "      <td>False</td>\n",
       "      <td>0</td>\n",
       "    </tr>\n",
       "    <tr>\n",
       "      <th>16</th>\n",
       "      <td>resnet18</td>\n",
       "      <td>CIFAR10</td>\n",
       "      <td>256</td>\n",
       "      <td>0.9259</td>\n",
       "      <td>0.9157</td>\n",
       "      <td>0.9974</td>\n",
       "      <td>0.9965</td>\n",
       "      <td>4</td>\n",
       "      <td>1.10</td>\n",
       "      <td>1.10</td>\n",
       "      <td>1</td>\n",
       "      <td>1</td>\n",
       "      <td>False</td>\n",
       "      <td>NaN</td>\n",
       "      <td>0.1</td>\n",
       "      <td>0</td>\n",
       "      <td>0.5465</td>\n",
       "      <td>0.25</td>\n",
       "      <td>False</td>\n",
       "      <td>0</td>\n",
       "    </tr>\n",
       "    <tr>\n",
       "      <th>17</th>\n",
       "      <td>resnet18</td>\n",
       "      <td>CIFAR10</td>\n",
       "      <td>256</td>\n",
       "      <td>0.9259</td>\n",
       "      <td>0.9167</td>\n",
       "      <td>0.9974</td>\n",
       "      <td>0.9964</td>\n",
       "      <td>4</td>\n",
       "      <td>1.15</td>\n",
       "      <td>1.15</td>\n",
       "      <td>1</td>\n",
       "      <td>1</td>\n",
       "      <td>False</td>\n",
       "      <td>NaN</td>\n",
       "      <td>0.1</td>\n",
       "      <td>0</td>\n",
       "      <td>0.5587</td>\n",
       "      <td>0.25</td>\n",
       "      <td>False</td>\n",
       "      <td>0</td>\n",
       "    </tr>\n",
       "    <tr>\n",
       "      <th>0</th>\n",
       "      <td>resnet18</td>\n",
       "      <td>CIFAR10</td>\n",
       "      <td>256</td>\n",
       "      <td>0.9259</td>\n",
       "      <td>0.9172</td>\n",
       "      <td>0.9974</td>\n",
       "      <td>0.9972</td>\n",
       "      <td>4</td>\n",
       "      <td>1.16</td>\n",
       "      <td>1.16</td>\n",
       "      <td>1</td>\n",
       "      <td>1</td>\n",
       "      <td>False</td>\n",
       "      <td>NaN</td>\n",
       "      <td>0.1</td>\n",
       "      <td>0</td>\n",
       "      <td>0.5581</td>\n",
       "      <td>0.25</td>\n",
       "      <td>False</td>\n",
       "      <td>0</td>\n",
       "    </tr>\n",
       "    <tr>\n",
       "      <th>18</th>\n",
       "      <td>resnet18</td>\n",
       "      <td>CIFAR10</td>\n",
       "      <td>256</td>\n",
       "      <td>0.9259</td>\n",
       "      <td>0.9177</td>\n",
       "      <td>0.9974</td>\n",
       "      <td>0.9970</td>\n",
       "      <td>4</td>\n",
       "      <td>1.20</td>\n",
       "      <td>1.20</td>\n",
       "      <td>1</td>\n",
       "      <td>1</td>\n",
       "      <td>False</td>\n",
       "      <td>NaN</td>\n",
       "      <td>0.1</td>\n",
       "      <td>0</td>\n",
       "      <td>0.5646</td>\n",
       "      <td>0.25</td>\n",
       "      <td>False</td>\n",
       "      <td>0</td>\n",
       "    </tr>\n",
       "    <tr>\n",
       "      <th>19</th>\n",
       "      <td>resnet18</td>\n",
       "      <td>CIFAR10</td>\n",
       "      <td>256</td>\n",
       "      <td>0.9259</td>\n",
       "      <td>0.9193</td>\n",
       "      <td>0.9974</td>\n",
       "      <td>0.9969</td>\n",
       "      <td>4</td>\n",
       "      <td>1.25</td>\n",
       "      <td>1.25</td>\n",
       "      <td>1</td>\n",
       "      <td>1</td>\n",
       "      <td>False</td>\n",
       "      <td>NaN</td>\n",
       "      <td>0.1</td>\n",
       "      <td>0</td>\n",
       "      <td>0.5775</td>\n",
       "      <td>0.25</td>\n",
       "      <td>False</td>\n",
       "      <td>0</td>\n",
       "    </tr>\n",
       "    <tr>\n",
       "      <th>5</th>\n",
       "      <td>resnet18</td>\n",
       "      <td>CIFAR10</td>\n",
       "      <td>256</td>\n",
       "      <td>0.9259</td>\n",
       "      <td>0.9195</td>\n",
       "      <td>0.9974</td>\n",
       "      <td>0.9962</td>\n",
       "      <td>4</td>\n",
       "      <td>1.26</td>\n",
       "      <td>1.26</td>\n",
       "      <td>1</td>\n",
       "      <td>1</td>\n",
       "      <td>False</td>\n",
       "      <td>NaN</td>\n",
       "      <td>0.1</td>\n",
       "      <td>0</td>\n",
       "      <td>0.5751</td>\n",
       "      <td>0.25</td>\n",
       "      <td>False</td>\n",
       "      <td>0</td>\n",
       "    </tr>\n",
       "    <tr>\n",
       "      <th>20</th>\n",
       "      <td>resnet18</td>\n",
       "      <td>CIFAR10</td>\n",
       "      <td>256</td>\n",
       "      <td>0.9259</td>\n",
       "      <td>0.9193</td>\n",
       "      <td>0.9974</td>\n",
       "      <td>0.9973</td>\n",
       "      <td>4</td>\n",
       "      <td>1.30</td>\n",
       "      <td>1.30</td>\n",
       "      <td>1</td>\n",
       "      <td>1</td>\n",
       "      <td>False</td>\n",
       "      <td>NaN</td>\n",
       "      <td>0.1</td>\n",
       "      <td>0</td>\n",
       "      <td>0.5833</td>\n",
       "      <td>0.25</td>\n",
       "      <td>False</td>\n",
       "      <td>0</td>\n",
       "    </tr>\n",
       "    <tr>\n",
       "      <th>21</th>\n",
       "      <td>resnet18</td>\n",
       "      <td>CIFAR10</td>\n",
       "      <td>256</td>\n",
       "      <td>0.9259</td>\n",
       "      <td>0.9215</td>\n",
       "      <td>0.9974</td>\n",
       "      <td>0.9972</td>\n",
       "      <td>4</td>\n",
       "      <td>1.35</td>\n",
       "      <td>1.35</td>\n",
       "      <td>1</td>\n",
       "      <td>1</td>\n",
       "      <td>False</td>\n",
       "      <td>NaN</td>\n",
       "      <td>0.1</td>\n",
       "      <td>0</td>\n",
       "      <td>0.5914</td>\n",
       "      <td>0.25</td>\n",
       "      <td>False</td>\n",
       "      <td>0</td>\n",
       "    </tr>\n",
       "    <tr>\n",
       "      <th>6</th>\n",
       "      <td>resnet18</td>\n",
       "      <td>CIFAR10</td>\n",
       "      <td>256</td>\n",
       "      <td>0.9259</td>\n",
       "      <td>0.9194</td>\n",
       "      <td>0.9974</td>\n",
       "      <td>0.9971</td>\n",
       "      <td>4</td>\n",
       "      <td>1.36</td>\n",
       "      <td>1.36</td>\n",
       "      <td>1</td>\n",
       "      <td>1</td>\n",
       "      <td>False</td>\n",
       "      <td>NaN</td>\n",
       "      <td>0.1</td>\n",
       "      <td>0</td>\n",
       "      <td>0.5912</td>\n",
       "      <td>0.25</td>\n",
       "      <td>False</td>\n",
       "      <td>0</td>\n",
       "    </tr>\n",
       "    <tr>\n",
       "      <th>22</th>\n",
       "      <td>resnet18</td>\n",
       "      <td>CIFAR10</td>\n",
       "      <td>256</td>\n",
       "      <td>0.9259</td>\n",
       "      <td>0.9185</td>\n",
       "      <td>0.9974</td>\n",
       "      <td>0.9969</td>\n",
       "      <td>4</td>\n",
       "      <td>1.40</td>\n",
       "      <td>1.40</td>\n",
       "      <td>1</td>\n",
       "      <td>1</td>\n",
       "      <td>False</td>\n",
       "      <td>NaN</td>\n",
       "      <td>0.1</td>\n",
       "      <td>0</td>\n",
       "      <td>0.5994</td>\n",
       "      <td>0.25</td>\n",
       "      <td>False</td>\n",
       "      <td>0</td>\n",
       "    </tr>\n",
       "    <tr>\n",
       "      <th>23</th>\n",
       "      <td>resnet18</td>\n",
       "      <td>CIFAR10</td>\n",
       "      <td>256</td>\n",
       "      <td>0.9259</td>\n",
       "      <td>0.9180</td>\n",
       "      <td>0.9974</td>\n",
       "      <td>0.9972</td>\n",
       "      <td>4</td>\n",
       "      <td>1.45</td>\n",
       "      <td>1.45</td>\n",
       "      <td>1</td>\n",
       "      <td>1</td>\n",
       "      <td>False</td>\n",
       "      <td>NaN</td>\n",
       "      <td>0.1</td>\n",
       "      <td>0</td>\n",
       "      <td>0.6038</td>\n",
       "      <td>0.25</td>\n",
       "      <td>False</td>\n",
       "      <td>0</td>\n",
       "    </tr>\n",
       "    <tr>\n",
       "      <th>7</th>\n",
       "      <td>resnet18</td>\n",
       "      <td>CIFAR10</td>\n",
       "      <td>256</td>\n",
       "      <td>0.9259</td>\n",
       "      <td>0.9186</td>\n",
       "      <td>0.9974</td>\n",
       "      <td>0.9970</td>\n",
       "      <td>4</td>\n",
       "      <td>1.46</td>\n",
       "      <td>1.46</td>\n",
       "      <td>1</td>\n",
       "      <td>1</td>\n",
       "      <td>False</td>\n",
       "      <td>NaN</td>\n",
       "      <td>0.1</td>\n",
       "      <td>0</td>\n",
       "      <td>0.6055</td>\n",
       "      <td>0.25</td>\n",
       "      <td>False</td>\n",
       "      <td>0</td>\n",
       "    </tr>\n",
       "    <tr>\n",
       "      <th>2</th>\n",
       "      <td>resnet18</td>\n",
       "      <td>CIFAR10</td>\n",
       "      <td>256</td>\n",
       "      <td>0.9259</td>\n",
       "      <td>0.9209</td>\n",
       "      <td>0.9974</td>\n",
       "      <td>0.9968</td>\n",
       "      <td>4</td>\n",
       "      <td>1.50</td>\n",
       "      <td>1.50</td>\n",
       "      <td>1</td>\n",
       "      <td>1</td>\n",
       "      <td>False</td>\n",
       "      <td>NaN</td>\n",
       "      <td>0.1</td>\n",
       "      <td>0</td>\n",
       "      <td>0.6085</td>\n",
       "      <td>0.25</td>\n",
       "      <td>False</td>\n",
       "      <td>0</td>\n",
       "    </tr>\n",
       "    <tr>\n",
       "      <th>24</th>\n",
       "      <td>resnet18</td>\n",
       "      <td>CIFAR10</td>\n",
       "      <td>256</td>\n",
       "      <td>0.9259</td>\n",
       "      <td>0.9212</td>\n",
       "      <td>0.9974</td>\n",
       "      <td>0.9967</td>\n",
       "      <td>4</td>\n",
       "      <td>1.50</td>\n",
       "      <td>1.50</td>\n",
       "      <td>1</td>\n",
       "      <td>1</td>\n",
       "      <td>False</td>\n",
       "      <td>NaN</td>\n",
       "      <td>0.1</td>\n",
       "      <td>0</td>\n",
       "      <td>0.6096</td>\n",
       "      <td>0.25</td>\n",
       "      <td>False</td>\n",
       "      <td>0</td>\n",
       "    </tr>\n",
       "    <tr>\n",
       "      <th>25</th>\n",
       "      <td>resnet18</td>\n",
       "      <td>CIFAR10</td>\n",
       "      <td>256</td>\n",
       "      <td>0.9259</td>\n",
       "      <td>0.9214</td>\n",
       "      <td>0.9974</td>\n",
       "      <td>0.9971</td>\n",
       "      <td>4</td>\n",
       "      <td>1.55</td>\n",
       "      <td>1.55</td>\n",
       "      <td>1</td>\n",
       "      <td>1</td>\n",
       "      <td>False</td>\n",
       "      <td>NaN</td>\n",
       "      <td>0.1</td>\n",
       "      <td>0</td>\n",
       "      <td>0.6129</td>\n",
       "      <td>0.25</td>\n",
       "      <td>False</td>\n",
       "      <td>0</td>\n",
       "    </tr>\n",
       "    <tr>\n",
       "      <th>8</th>\n",
       "      <td>resnet18</td>\n",
       "      <td>CIFAR10</td>\n",
       "      <td>256</td>\n",
       "      <td>0.9259</td>\n",
       "      <td>0.9202</td>\n",
       "      <td>0.9974</td>\n",
       "      <td>0.9963</td>\n",
       "      <td>4</td>\n",
       "      <td>1.56</td>\n",
       "      <td>1.56</td>\n",
       "      <td>1</td>\n",
       "      <td>1</td>\n",
       "      <td>False</td>\n",
       "      <td>NaN</td>\n",
       "      <td>0.1</td>\n",
       "      <td>0</td>\n",
       "      <td>0.6151</td>\n",
       "      <td>0.25</td>\n",
       "      <td>False</td>\n",
       "      <td>0</td>\n",
       "    </tr>\n",
       "    <tr>\n",
       "      <th>26</th>\n",
       "      <td>resnet18</td>\n",
       "      <td>CIFAR10</td>\n",
       "      <td>256</td>\n",
       "      <td>0.9259</td>\n",
       "      <td>0.9201</td>\n",
       "      <td>0.9974</td>\n",
       "      <td>0.9973</td>\n",
       "      <td>4</td>\n",
       "      <td>1.60</td>\n",
       "      <td>1.60</td>\n",
       "      <td>1</td>\n",
       "      <td>1</td>\n",
       "      <td>False</td>\n",
       "      <td>NaN</td>\n",
       "      <td>0.1</td>\n",
       "      <td>0</td>\n",
       "      <td>0.6208</td>\n",
       "      <td>0.25</td>\n",
       "      <td>False</td>\n",
       "      <td>0</td>\n",
       "    </tr>\n",
       "    <tr>\n",
       "      <th>27</th>\n",
       "      <td>resnet18</td>\n",
       "      <td>CIFAR10</td>\n",
       "      <td>256</td>\n",
       "      <td>0.9259</td>\n",
       "      <td>0.9173</td>\n",
       "      <td>0.9974</td>\n",
       "      <td>0.9966</td>\n",
       "      <td>4</td>\n",
       "      <td>1.65</td>\n",
       "      <td>1.65</td>\n",
       "      <td>1</td>\n",
       "      <td>1</td>\n",
       "      <td>False</td>\n",
       "      <td>NaN</td>\n",
       "      <td>0.1</td>\n",
       "      <td>0</td>\n",
       "      <td>0.6239</td>\n",
       "      <td>0.25</td>\n",
       "      <td>False</td>\n",
       "      <td>0</td>\n",
       "    </tr>\n",
       "    <tr>\n",
       "      <th>9</th>\n",
       "      <td>resnet18</td>\n",
       "      <td>CIFAR10</td>\n",
       "      <td>256</td>\n",
       "      <td>0.9259</td>\n",
       "      <td>0.9185</td>\n",
       "      <td>0.9974</td>\n",
       "      <td>0.9972</td>\n",
       "      <td>4</td>\n",
       "      <td>1.66</td>\n",
       "      <td>1.66</td>\n",
       "      <td>1</td>\n",
       "      <td>1</td>\n",
       "      <td>False</td>\n",
       "      <td>NaN</td>\n",
       "      <td>0.1</td>\n",
       "      <td>0</td>\n",
       "      <td>0.6242</td>\n",
       "      <td>0.25</td>\n",
       "      <td>False</td>\n",
       "      <td>0</td>\n",
       "    </tr>\n",
       "    <tr>\n",
       "      <th>28</th>\n",
       "      <td>resnet18</td>\n",
       "      <td>CIFAR10</td>\n",
       "      <td>256</td>\n",
       "      <td>0.9259</td>\n",
       "      <td>0.9180</td>\n",
       "      <td>0.9974</td>\n",
       "      <td>0.9971</td>\n",
       "      <td>4</td>\n",
       "      <td>1.70</td>\n",
       "      <td>1.70</td>\n",
       "      <td>1</td>\n",
       "      <td>1</td>\n",
       "      <td>False</td>\n",
       "      <td>NaN</td>\n",
       "      <td>0.1</td>\n",
       "      <td>0</td>\n",
       "      <td>0.6286</td>\n",
       "      <td>0.25</td>\n",
       "      <td>False</td>\n",
       "      <td>0</td>\n",
       "    </tr>\n",
       "    <tr>\n",
       "      <th>29</th>\n",
       "      <td>resnet18</td>\n",
       "      <td>CIFAR10</td>\n",
       "      <td>256</td>\n",
       "      <td>0.9259</td>\n",
       "      <td>0.9216</td>\n",
       "      <td>0.9974</td>\n",
       "      <td>0.9970</td>\n",
       "      <td>4</td>\n",
       "      <td>1.75</td>\n",
       "      <td>1.75</td>\n",
       "      <td>1</td>\n",
       "      <td>1</td>\n",
       "      <td>False</td>\n",
       "      <td>NaN</td>\n",
       "      <td>0.1</td>\n",
       "      <td>0</td>\n",
       "      <td>0.6345</td>\n",
       "      <td>0.25</td>\n",
       "      <td>False</td>\n",
       "      <td>0</td>\n",
       "    </tr>\n",
       "    <tr>\n",
       "      <th>10</th>\n",
       "      <td>resnet18</td>\n",
       "      <td>CIFAR10</td>\n",
       "      <td>256</td>\n",
       "      <td>0.9259</td>\n",
       "      <td>0.9191</td>\n",
       "      <td>0.9974</td>\n",
       "      <td>0.9968</td>\n",
       "      <td>4</td>\n",
       "      <td>1.76</td>\n",
       "      <td>1.76</td>\n",
       "      <td>1</td>\n",
       "      <td>1</td>\n",
       "      <td>False</td>\n",
       "      <td>NaN</td>\n",
       "      <td>0.1</td>\n",
       "      <td>0</td>\n",
       "      <td>0.6374</td>\n",
       "      <td>0.25</td>\n",
       "      <td>False</td>\n",
       "      <td>0</td>\n",
       "    </tr>\n",
       "    <tr>\n",
       "      <th>30</th>\n",
       "      <td>resnet18</td>\n",
       "      <td>CIFAR10</td>\n",
       "      <td>256</td>\n",
       "      <td>0.9259</td>\n",
       "      <td>0.9185</td>\n",
       "      <td>0.9974</td>\n",
       "      <td>0.9963</td>\n",
       "      <td>4</td>\n",
       "      <td>1.80</td>\n",
       "      <td>1.80</td>\n",
       "      <td>1</td>\n",
       "      <td>1</td>\n",
       "      <td>False</td>\n",
       "      <td>NaN</td>\n",
       "      <td>0.1</td>\n",
       "      <td>0</td>\n",
       "      <td>0.6377</td>\n",
       "      <td>0.25</td>\n",
       "      <td>False</td>\n",
       "      <td>0</td>\n",
       "    </tr>\n",
       "    <tr>\n",
       "      <th>31</th>\n",
       "      <td>resnet18</td>\n",
       "      <td>CIFAR10</td>\n",
       "      <td>256</td>\n",
       "      <td>0.9259</td>\n",
       "      <td>0.9186</td>\n",
       "      <td>0.9974</td>\n",
       "      <td>0.9974</td>\n",
       "      <td>4</td>\n",
       "      <td>1.85</td>\n",
       "      <td>1.85</td>\n",
       "      <td>1</td>\n",
       "      <td>1</td>\n",
       "      <td>False</td>\n",
       "      <td>NaN</td>\n",
       "      <td>0.1</td>\n",
       "      <td>0</td>\n",
       "      <td>0.6408</td>\n",
       "      <td>0.25</td>\n",
       "      <td>False</td>\n",
       "      <td>0</td>\n",
       "    </tr>\n",
       "    <tr>\n",
       "      <th>11</th>\n",
       "      <td>resnet18</td>\n",
       "      <td>CIFAR10</td>\n",
       "      <td>256</td>\n",
       "      <td>0.9259</td>\n",
       "      <td>0.9182</td>\n",
       "      <td>0.9974</td>\n",
       "      <td>0.9967</td>\n",
       "      <td>4</td>\n",
       "      <td>1.86</td>\n",
       "      <td>1.86</td>\n",
       "      <td>1</td>\n",
       "      <td>1</td>\n",
       "      <td>False</td>\n",
       "      <td>NaN</td>\n",
       "      <td>0.1</td>\n",
       "      <td>0</td>\n",
       "      <td>0.6431</td>\n",
       "      <td>0.25</td>\n",
       "      <td>False</td>\n",
       "      <td>0</td>\n",
       "    </tr>\n",
       "    <tr>\n",
       "      <th>32</th>\n",
       "      <td>resnet18</td>\n",
       "      <td>CIFAR10</td>\n",
       "      <td>256</td>\n",
       "      <td>0.9259</td>\n",
       "      <td>0.9181</td>\n",
       "      <td>0.9974</td>\n",
       "      <td>0.9974</td>\n",
       "      <td>4</td>\n",
       "      <td>1.90</td>\n",
       "      <td>1.90</td>\n",
       "      <td>1</td>\n",
       "      <td>1</td>\n",
       "      <td>False</td>\n",
       "      <td>NaN</td>\n",
       "      <td>0.1</td>\n",
       "      <td>0</td>\n",
       "      <td>0.6460</td>\n",
       "      <td>0.25</td>\n",
       "      <td>False</td>\n",
       "      <td>0</td>\n",
       "    </tr>\n",
       "    <tr>\n",
       "      <th>33</th>\n",
       "      <td>resnet18</td>\n",
       "      <td>CIFAR10</td>\n",
       "      <td>256</td>\n",
       "      <td>0.9259</td>\n",
       "      <td>0.9185</td>\n",
       "      <td>0.9974</td>\n",
       "      <td>0.9964</td>\n",
       "      <td>4</td>\n",
       "      <td>1.95</td>\n",
       "      <td>1.95</td>\n",
       "      <td>1</td>\n",
       "      <td>1</td>\n",
       "      <td>False</td>\n",
       "      <td>NaN</td>\n",
       "      <td>0.1</td>\n",
       "      <td>0</td>\n",
       "      <td>0.6507</td>\n",
       "      <td>0.25</td>\n",
       "      <td>False</td>\n",
       "      <td>0</td>\n",
       "    </tr>\n",
       "    <tr>\n",
       "      <th>34</th>\n",
       "      <td>resnet18</td>\n",
       "      <td>CIFAR10</td>\n",
       "      <td>256</td>\n",
       "      <td>0.9259</td>\n",
       "      <td>0.9185</td>\n",
       "      <td>0.9974</td>\n",
       "      <td>0.9965</td>\n",
       "      <td>4</td>\n",
       "      <td>2.00</td>\n",
       "      <td>2.00</td>\n",
       "      <td>1</td>\n",
       "      <td>1</td>\n",
       "      <td>False</td>\n",
       "      <td>NaN</td>\n",
       "      <td>0.1</td>\n",
       "      <td>0</td>\n",
       "      <td>0.6528</td>\n",
       "      <td>0.25</td>\n",
       "      <td>False</td>\n",
       "      <td>0</td>\n",
       "    </tr>\n",
       "  </tbody>\n",
       "</table>\n",
       "</div>"
      ],
      "text/plain": [
       "   Model Name  Dataset  Quantization Batch Size  Original Top1 Accuracy  \\\n",
       "4    resnet18  CIFAR10                      256                  0.9259   \n",
       "14   resnet18  CIFAR10                      256                  0.9259   \n",
       "15   resnet18  CIFAR10                      256                  0.9259   \n",
       "16   resnet18  CIFAR10                      256                  0.9259   \n",
       "17   resnet18  CIFAR10                      256                  0.9259   \n",
       "0    resnet18  CIFAR10                      256                  0.9259   \n",
       "18   resnet18  CIFAR10                      256                  0.9259   \n",
       "19   resnet18  CIFAR10                      256                  0.9259   \n",
       "5    resnet18  CIFAR10                      256                  0.9259   \n",
       "20   resnet18  CIFAR10                      256                  0.9259   \n",
       "21   resnet18  CIFAR10                      256                  0.9259   \n",
       "6    resnet18  CIFAR10                      256                  0.9259   \n",
       "22   resnet18  CIFAR10                      256                  0.9259   \n",
       "23   resnet18  CIFAR10                      256                  0.9259   \n",
       "7    resnet18  CIFAR10                      256                  0.9259   \n",
       "2    resnet18  CIFAR10                      256                  0.9259   \n",
       "24   resnet18  CIFAR10                      256                  0.9259   \n",
       "25   resnet18  CIFAR10                      256                  0.9259   \n",
       "8    resnet18  CIFAR10                      256                  0.9259   \n",
       "26   resnet18  CIFAR10                      256                  0.9259   \n",
       "27   resnet18  CIFAR10                      256                  0.9259   \n",
       "9    resnet18  CIFAR10                      256                  0.9259   \n",
       "28   resnet18  CIFAR10                      256                  0.9259   \n",
       "29   resnet18  CIFAR10                      256                  0.9259   \n",
       "10   resnet18  CIFAR10                      256                  0.9259   \n",
       "30   resnet18  CIFAR10                      256                  0.9259   \n",
       "31   resnet18  CIFAR10                      256                  0.9259   \n",
       "11   resnet18  CIFAR10                      256                  0.9259   \n",
       "32   resnet18  CIFAR10                      256                  0.9259   \n",
       "33   resnet18  CIFAR10                      256                  0.9259   \n",
       "34   resnet18  CIFAR10                      256                  0.9259   \n",
       "\n",
       "    Quantized Top1 Accuracy  Original Top5 Accuracy  Quantized Top5 Accuracy  \\\n",
       "4                    0.9104                  0.9974                   0.9953   \n",
       "14                   0.9107                  0.9974                   0.9961   \n",
       "15                   0.9100                  0.9974                   0.9970   \n",
       "16                   0.9157                  0.9974                   0.9965   \n",
       "17                   0.9167                  0.9974                   0.9964   \n",
       "0                    0.9172                  0.9974                   0.9972   \n",
       "18                   0.9177                  0.9974                   0.9970   \n",
       "19                   0.9193                  0.9974                   0.9969   \n",
       "5                    0.9195                  0.9974                   0.9962   \n",
       "20                   0.9193                  0.9974                   0.9973   \n",
       "21                   0.9215                  0.9974                   0.9972   \n",
       "6                    0.9194                  0.9974                   0.9971   \n",
       "22                   0.9185                  0.9974                   0.9969   \n",
       "23                   0.9180                  0.9974                   0.9972   \n",
       "7                    0.9186                  0.9974                   0.9970   \n",
       "2                    0.9209                  0.9974                   0.9968   \n",
       "24                   0.9212                  0.9974                   0.9967   \n",
       "25                   0.9214                  0.9974                   0.9971   \n",
       "8                    0.9202                  0.9974                   0.9963   \n",
       "26                   0.9201                  0.9974                   0.9973   \n",
       "27                   0.9173                  0.9974                   0.9966   \n",
       "9                    0.9185                  0.9974                   0.9972   \n",
       "28                   0.9180                  0.9974                   0.9971   \n",
       "29                   0.9216                  0.9974                   0.9970   \n",
       "10                   0.9191                  0.9974                   0.9968   \n",
       "30                   0.9185                  0.9974                   0.9963   \n",
       "31                   0.9186                  0.9974                   0.9974   \n",
       "11                   0.9182                  0.9974                   0.9967   \n",
       "32                   0.9181                  0.9974                   0.9974   \n",
       "33                   0.9185                  0.9974                   0.9964   \n",
       "34                   0.9185                  0.9974                   0.9965   \n",
       "\n",
       "    Bits  MLP_Alphabet_Scalar  CNN_Alphabet_Scalar  MLP_Percentile  \\\n",
       "4      4                 1.00                 1.00               1   \n",
       "14     4                 1.00                 1.00               1   \n",
       "15     4                 1.05                 1.05               1   \n",
       "16     4                 1.10                 1.10               1   \n",
       "17     4                 1.15                 1.15               1   \n",
       "0      4                 1.16                 1.16               1   \n",
       "18     4                 1.20                 1.20               1   \n",
       "19     4                 1.25                 1.25               1   \n",
       "5      4                 1.26                 1.26               1   \n",
       "20     4                 1.30                 1.30               1   \n",
       "21     4                 1.35                 1.35               1   \n",
       "6      4                 1.36                 1.36               1   \n",
       "22     4                 1.40                 1.40               1   \n",
       "23     4                 1.45                 1.45               1   \n",
       "7      4                 1.46                 1.46               1   \n",
       "2      4                 1.50                 1.50               1   \n",
       "24     4                 1.50                 1.50               1   \n",
       "25     4                 1.55                 1.55               1   \n",
       "8      4                 1.56                 1.56               1   \n",
       "26     4                 1.60                 1.60               1   \n",
       "27     4                 1.65                 1.65               1   \n",
       "9      4                 1.66                 1.66               1   \n",
       "28     4                 1.70                 1.70               1   \n",
       "29     4                 1.75                 1.75               1   \n",
       "10     4                 1.76                 1.76               1   \n",
       "30     4                 1.80                 1.80               1   \n",
       "31     4                 1.85                 1.85               1   \n",
       "11     4                 1.86                 1.86               1   \n",
       "32     4                 1.90                 1.90               1   \n",
       "33     4                 1.95                 1.95               1   \n",
       "34     4                 2.00                 2.00               1   \n",
       "\n",
       "    CNN_Percentile  Stochastic Quantization  Regularizer  Lambda  \\\n",
       "4                1                    False          NaN     0.1   \n",
       "14               1                    False          NaN     0.1   \n",
       "15               1                    False          NaN     0.1   \n",
       "16               1                    False          NaN     0.1   \n",
       "17               1                    False          NaN     0.1   \n",
       "0                1                    False          NaN     0.1   \n",
       "18               1                    False          NaN     0.1   \n",
       "19               1                    False          NaN     0.1   \n",
       "5                1                    False          NaN     0.1   \n",
       "20               1                    False          NaN     0.1   \n",
       "21               1                    False          NaN     0.1   \n",
       "6                1                    False          NaN     0.1   \n",
       "22               1                    False          NaN     0.1   \n",
       "23               1                    False          NaN     0.1   \n",
       "7                1                    False          NaN     0.1   \n",
       "2                1                    False          NaN     0.1   \n",
       "24               1                    False          NaN     0.1   \n",
       "25               1                    False          NaN     0.1   \n",
       "8                1                    False          NaN     0.1   \n",
       "26               1                    False          NaN     0.1   \n",
       "27               1                    False          NaN     0.1   \n",
       "9                1                    False          NaN     0.1   \n",
       "28               1                    False          NaN     0.1   \n",
       "29               1                    False          NaN     0.1   \n",
       "10               1                    False          NaN     0.1   \n",
       "30               1                    False          NaN     0.1   \n",
       "31               1                    False          NaN     0.1   \n",
       "11               1                    False          NaN     0.1   \n",
       "32               1                    False          NaN     0.1   \n",
       "33               1                    False          NaN     0.1   \n",
       "34               1                    False          NaN     0.1   \n",
       "\n",
       "    Original Sparsity  Quantized Sparsity  Retain_rate  Fusion  Seed  \n",
       "4                   0              0.5207         0.25   False     0  \n",
       "14                  0              0.5221         0.25   False     0  \n",
       "15                  0              0.5327         0.25   False     0  \n",
       "16                  0              0.5465         0.25   False     0  \n",
       "17                  0              0.5587         0.25   False     0  \n",
       "0                   0              0.5581         0.25   False     0  \n",
       "18                  0              0.5646         0.25   False     0  \n",
       "19                  0              0.5775         0.25   False     0  \n",
       "5                   0              0.5751         0.25   False     0  \n",
       "20                  0              0.5833         0.25   False     0  \n",
       "21                  0              0.5914         0.25   False     0  \n",
       "6                   0              0.5912         0.25   False     0  \n",
       "22                  0              0.5994         0.25   False     0  \n",
       "23                  0              0.6038         0.25   False     0  \n",
       "7                   0              0.6055         0.25   False     0  \n",
       "2                   0              0.6085         0.25   False     0  \n",
       "24                  0              0.6096         0.25   False     0  \n",
       "25                  0              0.6129         0.25   False     0  \n",
       "8                   0              0.6151         0.25   False     0  \n",
       "26                  0              0.6208         0.25   False     0  \n",
       "27                  0              0.6239         0.25   False     0  \n",
       "9                   0              0.6242         0.25   False     0  \n",
       "28                  0              0.6286         0.25   False     0  \n",
       "29                  0              0.6345         0.25   False     0  \n",
       "10                  0              0.6374         0.25   False     0  \n",
       "30                  0              0.6377         0.25   False     0  \n",
       "31                  0              0.6408         0.25   False     0  \n",
       "11                  0              0.6431         0.25   False     0  \n",
       "32                  0              0.6460         0.25   False     0  \n",
       "33                  0              0.6507         0.25   False     0  \n",
       "34                  0              0.6528         0.25   False     0  "
      ]
     },
     "execution_count": 2,
     "metadata": {},
     "output_type": "execute_result"
    }
   ],
   "source": [
    "df = pd.read_csv('logs/Quantization_Log.csv')\n",
    "\n",
    "# sort the df by the MLP_Alphabet_Scalar column\n",
    "df = df.sort_values(by='CNN_Alphabet_Scalar')\n",
    "\n",
    "# get rid of first and last row\n",
    "df = df.iloc[1:-3]\n",
    "df"
   ]
  },
  {
   "cell_type": "code",
   "execution_count": 3,
   "metadata": {},
   "outputs": [
    {
     "data": {
      "application/vnd.plotly.v1+json": {
       "config": {
        "plotlyServerURL": "https://plot.ly"
       },
       "data": [
        {
         "hovertemplate": "CNN_Alphabet_Scalar=%{x}<br>Quantized Top1 Accuracy=%{y}<extra></extra>",
         "legendgroup": "",
         "line": {
          "color": "#636efa",
          "dash": "solid"
         },
         "marker": {
          "symbol": "circle"
         },
         "mode": "lines",
         "name": "",
         "orientation": "v",
         "showlegend": false,
         "type": "scatter",
         "x": [
          1,
          1,
          1.05,
          1.1,
          1.15,
          1.16,
          1.2,
          1.25,
          1.26,
          1.3,
          1.35,
          1.36,
          1.4,
          1.45,
          1.46,
          1.5,
          1.5,
          1.55,
          1.56,
          1.6,
          1.65,
          1.66,
          1.7,
          1.75,
          1.76,
          1.8,
          1.85,
          1.86,
          1.9,
          1.95,
          2
         ],
         "xaxis": "x",
         "y": [
          0.9104,
          0.9107,
          0.91,
          0.9157,
          0.9167,
          0.9172,
          0.9177,
          0.9193,
          0.9195,
          0.9193,
          0.9215,
          0.9194,
          0.9185,
          0.918,
          0.9186,
          0.9209,
          0.9212,
          0.9214,
          0.9202,
          0.9201,
          0.9173,
          0.9185,
          0.918,
          0.9216,
          0.9191,
          0.9185,
          0.9186,
          0.9182,
          0.9181,
          0.9185,
          0.9185
         ],
         "yaxis": "y"
        }
       ],
       "layout": {
        "legend": {
         "tracegroupgap": 0
        },
        "template": {
         "data": {
          "bar": [
           {
            "error_x": {
             "color": "#2a3f5f"
            },
            "error_y": {
             "color": "#2a3f5f"
            },
            "marker": {
             "line": {
              "color": "#E5ECF6",
              "width": 0.5
             },
             "pattern": {
              "fillmode": "overlay",
              "size": 10,
              "solidity": 0.2
             }
            },
            "type": "bar"
           }
          ],
          "barpolar": [
           {
            "marker": {
             "line": {
              "color": "#E5ECF6",
              "width": 0.5
             },
             "pattern": {
              "fillmode": "overlay",
              "size": 10,
              "solidity": 0.2
             }
            },
            "type": "barpolar"
           }
          ],
          "carpet": [
           {
            "aaxis": {
             "endlinecolor": "#2a3f5f",
             "gridcolor": "white",
             "linecolor": "white",
             "minorgridcolor": "white",
             "startlinecolor": "#2a3f5f"
            },
            "baxis": {
             "endlinecolor": "#2a3f5f",
             "gridcolor": "white",
             "linecolor": "white",
             "minorgridcolor": "white",
             "startlinecolor": "#2a3f5f"
            },
            "type": "carpet"
           }
          ],
          "choropleth": [
           {
            "colorbar": {
             "outlinewidth": 0,
             "ticks": ""
            },
            "type": "choropleth"
           }
          ],
          "contour": [
           {
            "colorbar": {
             "outlinewidth": 0,
             "ticks": ""
            },
            "colorscale": [
             [
              0,
              "#0d0887"
             ],
             [
              0.1111111111111111,
              "#46039f"
             ],
             [
              0.2222222222222222,
              "#7201a8"
             ],
             [
              0.3333333333333333,
              "#9c179e"
             ],
             [
              0.4444444444444444,
              "#bd3786"
             ],
             [
              0.5555555555555556,
              "#d8576b"
             ],
             [
              0.6666666666666666,
              "#ed7953"
             ],
             [
              0.7777777777777778,
              "#fb9f3a"
             ],
             [
              0.8888888888888888,
              "#fdca26"
             ],
             [
              1,
              "#f0f921"
             ]
            ],
            "type": "contour"
           }
          ],
          "contourcarpet": [
           {
            "colorbar": {
             "outlinewidth": 0,
             "ticks": ""
            },
            "type": "contourcarpet"
           }
          ],
          "heatmap": [
           {
            "colorbar": {
             "outlinewidth": 0,
             "ticks": ""
            },
            "colorscale": [
             [
              0,
              "#0d0887"
             ],
             [
              0.1111111111111111,
              "#46039f"
             ],
             [
              0.2222222222222222,
              "#7201a8"
             ],
             [
              0.3333333333333333,
              "#9c179e"
             ],
             [
              0.4444444444444444,
              "#bd3786"
             ],
             [
              0.5555555555555556,
              "#d8576b"
             ],
             [
              0.6666666666666666,
              "#ed7953"
             ],
             [
              0.7777777777777778,
              "#fb9f3a"
             ],
             [
              0.8888888888888888,
              "#fdca26"
             ],
             [
              1,
              "#f0f921"
             ]
            ],
            "type": "heatmap"
           }
          ],
          "heatmapgl": [
           {
            "colorbar": {
             "outlinewidth": 0,
             "ticks": ""
            },
            "colorscale": [
             [
              0,
              "#0d0887"
             ],
             [
              0.1111111111111111,
              "#46039f"
             ],
             [
              0.2222222222222222,
              "#7201a8"
             ],
             [
              0.3333333333333333,
              "#9c179e"
             ],
             [
              0.4444444444444444,
              "#bd3786"
             ],
             [
              0.5555555555555556,
              "#d8576b"
             ],
             [
              0.6666666666666666,
              "#ed7953"
             ],
             [
              0.7777777777777778,
              "#fb9f3a"
             ],
             [
              0.8888888888888888,
              "#fdca26"
             ],
             [
              1,
              "#f0f921"
             ]
            ],
            "type": "heatmapgl"
           }
          ],
          "histogram": [
           {
            "marker": {
             "pattern": {
              "fillmode": "overlay",
              "size": 10,
              "solidity": 0.2
             }
            },
            "type": "histogram"
           }
          ],
          "histogram2d": [
           {
            "colorbar": {
             "outlinewidth": 0,
             "ticks": ""
            },
            "colorscale": [
             [
              0,
              "#0d0887"
             ],
             [
              0.1111111111111111,
              "#46039f"
             ],
             [
              0.2222222222222222,
              "#7201a8"
             ],
             [
              0.3333333333333333,
              "#9c179e"
             ],
             [
              0.4444444444444444,
              "#bd3786"
             ],
             [
              0.5555555555555556,
              "#d8576b"
             ],
             [
              0.6666666666666666,
              "#ed7953"
             ],
             [
              0.7777777777777778,
              "#fb9f3a"
             ],
             [
              0.8888888888888888,
              "#fdca26"
             ],
             [
              1,
              "#f0f921"
             ]
            ],
            "type": "histogram2d"
           }
          ],
          "histogram2dcontour": [
           {
            "colorbar": {
             "outlinewidth": 0,
             "ticks": ""
            },
            "colorscale": [
             [
              0,
              "#0d0887"
             ],
             [
              0.1111111111111111,
              "#46039f"
             ],
             [
              0.2222222222222222,
              "#7201a8"
             ],
             [
              0.3333333333333333,
              "#9c179e"
             ],
             [
              0.4444444444444444,
              "#bd3786"
             ],
             [
              0.5555555555555556,
              "#d8576b"
             ],
             [
              0.6666666666666666,
              "#ed7953"
             ],
             [
              0.7777777777777778,
              "#fb9f3a"
             ],
             [
              0.8888888888888888,
              "#fdca26"
             ],
             [
              1,
              "#f0f921"
             ]
            ],
            "type": "histogram2dcontour"
           }
          ],
          "mesh3d": [
           {
            "colorbar": {
             "outlinewidth": 0,
             "ticks": ""
            },
            "type": "mesh3d"
           }
          ],
          "parcoords": [
           {
            "line": {
             "colorbar": {
              "outlinewidth": 0,
              "ticks": ""
             }
            },
            "type": "parcoords"
           }
          ],
          "pie": [
           {
            "automargin": true,
            "type": "pie"
           }
          ],
          "scatter": [
           {
            "fillpattern": {
             "fillmode": "overlay",
             "size": 10,
             "solidity": 0.2
            },
            "type": "scatter"
           }
          ],
          "scatter3d": [
           {
            "line": {
             "colorbar": {
              "outlinewidth": 0,
              "ticks": ""
             }
            },
            "marker": {
             "colorbar": {
              "outlinewidth": 0,
              "ticks": ""
             }
            },
            "type": "scatter3d"
           }
          ],
          "scattercarpet": [
           {
            "marker": {
             "colorbar": {
              "outlinewidth": 0,
              "ticks": ""
             }
            },
            "type": "scattercarpet"
           }
          ],
          "scattergeo": [
           {
            "marker": {
             "colorbar": {
              "outlinewidth": 0,
              "ticks": ""
             }
            },
            "type": "scattergeo"
           }
          ],
          "scattergl": [
           {
            "marker": {
             "colorbar": {
              "outlinewidth": 0,
              "ticks": ""
             }
            },
            "type": "scattergl"
           }
          ],
          "scattermapbox": [
           {
            "marker": {
             "colorbar": {
              "outlinewidth": 0,
              "ticks": ""
             }
            },
            "type": "scattermapbox"
           }
          ],
          "scatterpolar": [
           {
            "marker": {
             "colorbar": {
              "outlinewidth": 0,
              "ticks": ""
             }
            },
            "type": "scatterpolar"
           }
          ],
          "scatterpolargl": [
           {
            "marker": {
             "colorbar": {
              "outlinewidth": 0,
              "ticks": ""
             }
            },
            "type": "scatterpolargl"
           }
          ],
          "scatterternary": [
           {
            "marker": {
             "colorbar": {
              "outlinewidth": 0,
              "ticks": ""
             }
            },
            "type": "scatterternary"
           }
          ],
          "surface": [
           {
            "colorbar": {
             "outlinewidth": 0,
             "ticks": ""
            },
            "colorscale": [
             [
              0,
              "#0d0887"
             ],
             [
              0.1111111111111111,
              "#46039f"
             ],
             [
              0.2222222222222222,
              "#7201a8"
             ],
             [
              0.3333333333333333,
              "#9c179e"
             ],
             [
              0.4444444444444444,
              "#bd3786"
             ],
             [
              0.5555555555555556,
              "#d8576b"
             ],
             [
              0.6666666666666666,
              "#ed7953"
             ],
             [
              0.7777777777777778,
              "#fb9f3a"
             ],
             [
              0.8888888888888888,
              "#fdca26"
             ],
             [
              1,
              "#f0f921"
             ]
            ],
            "type": "surface"
           }
          ],
          "table": [
           {
            "cells": {
             "fill": {
              "color": "#EBF0F8"
             },
             "line": {
              "color": "white"
             }
            },
            "header": {
             "fill": {
              "color": "#C8D4E3"
             },
             "line": {
              "color": "white"
             }
            },
            "type": "table"
           }
          ]
         },
         "layout": {
          "annotationdefaults": {
           "arrowcolor": "#2a3f5f",
           "arrowhead": 0,
           "arrowwidth": 1
          },
          "autotypenumbers": "strict",
          "coloraxis": {
           "colorbar": {
            "outlinewidth": 0,
            "ticks": ""
           }
          },
          "colorscale": {
           "diverging": [
            [
             0,
             "#8e0152"
            ],
            [
             0.1,
             "#c51b7d"
            ],
            [
             0.2,
             "#de77ae"
            ],
            [
             0.3,
             "#f1b6da"
            ],
            [
             0.4,
             "#fde0ef"
            ],
            [
             0.5,
             "#f7f7f7"
            ],
            [
             0.6,
             "#e6f5d0"
            ],
            [
             0.7,
             "#b8e186"
            ],
            [
             0.8,
             "#7fbc41"
            ],
            [
             0.9,
             "#4d9221"
            ],
            [
             1,
             "#276419"
            ]
           ],
           "sequential": [
            [
             0,
             "#0d0887"
            ],
            [
             0.1111111111111111,
             "#46039f"
            ],
            [
             0.2222222222222222,
             "#7201a8"
            ],
            [
             0.3333333333333333,
             "#9c179e"
            ],
            [
             0.4444444444444444,
             "#bd3786"
            ],
            [
             0.5555555555555556,
             "#d8576b"
            ],
            [
             0.6666666666666666,
             "#ed7953"
            ],
            [
             0.7777777777777778,
             "#fb9f3a"
            ],
            [
             0.8888888888888888,
             "#fdca26"
            ],
            [
             1,
             "#f0f921"
            ]
           ],
           "sequentialminus": [
            [
             0,
             "#0d0887"
            ],
            [
             0.1111111111111111,
             "#46039f"
            ],
            [
             0.2222222222222222,
             "#7201a8"
            ],
            [
             0.3333333333333333,
             "#9c179e"
            ],
            [
             0.4444444444444444,
             "#bd3786"
            ],
            [
             0.5555555555555556,
             "#d8576b"
            ],
            [
             0.6666666666666666,
             "#ed7953"
            ],
            [
             0.7777777777777778,
             "#fb9f3a"
            ],
            [
             0.8888888888888888,
             "#fdca26"
            ],
            [
             1,
             "#f0f921"
            ]
           ]
          },
          "colorway": [
           "#636efa",
           "#EF553B",
           "#00cc96",
           "#ab63fa",
           "#FFA15A",
           "#19d3f3",
           "#FF6692",
           "#B6E880",
           "#FF97FF",
           "#FECB52"
          ],
          "font": {
           "color": "#2a3f5f"
          },
          "geo": {
           "bgcolor": "white",
           "lakecolor": "white",
           "landcolor": "#E5ECF6",
           "showlakes": true,
           "showland": true,
           "subunitcolor": "white"
          },
          "hoverlabel": {
           "align": "left"
          },
          "hovermode": "closest",
          "mapbox": {
           "style": "light"
          },
          "paper_bgcolor": "white",
          "plot_bgcolor": "#E5ECF6",
          "polar": {
           "angularaxis": {
            "gridcolor": "white",
            "linecolor": "white",
            "ticks": ""
           },
           "bgcolor": "#E5ECF6",
           "radialaxis": {
            "gridcolor": "white",
            "linecolor": "white",
            "ticks": ""
           }
          },
          "scene": {
           "xaxis": {
            "backgroundcolor": "#E5ECF6",
            "gridcolor": "white",
            "gridwidth": 2,
            "linecolor": "white",
            "showbackground": true,
            "ticks": "",
            "zerolinecolor": "white"
           },
           "yaxis": {
            "backgroundcolor": "#E5ECF6",
            "gridcolor": "white",
            "gridwidth": 2,
            "linecolor": "white",
            "showbackground": true,
            "ticks": "",
            "zerolinecolor": "white"
           },
           "zaxis": {
            "backgroundcolor": "#E5ECF6",
            "gridcolor": "white",
            "gridwidth": 2,
            "linecolor": "white",
            "showbackground": true,
            "ticks": "",
            "zerolinecolor": "white"
           }
          },
          "shapedefaults": {
           "line": {
            "color": "#2a3f5f"
           }
          },
          "ternary": {
           "aaxis": {
            "gridcolor": "white",
            "linecolor": "white",
            "ticks": ""
           },
           "baxis": {
            "gridcolor": "white",
            "linecolor": "white",
            "ticks": ""
           },
           "bgcolor": "#E5ECF6",
           "caxis": {
            "gridcolor": "white",
            "linecolor": "white",
            "ticks": ""
           }
          },
          "title": {
           "x": 0.05
          },
          "xaxis": {
           "automargin": true,
           "gridcolor": "white",
           "linecolor": "white",
           "ticks": "",
           "title": {
            "standoff": 15
           },
           "zerolinecolor": "white",
           "zerolinewidth": 2
          },
          "yaxis": {
           "automargin": true,
           "gridcolor": "white",
           "linecolor": "white",
           "ticks": "",
           "title": {
            "standoff": 15
           },
           "zerolinecolor": "white",
           "zerolinewidth": 2
          }
         }
        },
        "title": {
         "text": "Quantized Top1 Accuracy vs CNN Alphabet Scalar"
        },
        "xaxis": {
         "anchor": "y",
         "domain": [
          0,
          1
         ],
         "title": {
          "text": "CNN_Alphabet_Scalar"
         }
        },
        "yaxis": {
         "anchor": "x",
         "domain": [
          0,
          1
         ],
         "title": {
          "text": "Quantized Top1 Accuracy"
         }
        }
       }
      }
     },
     "metadata": {},
     "output_type": "display_data"
    }
   ],
   "source": [
    "# plot a line graph with the CNN_Alphabet_Scalar column as the x-axis and the Quantized Top1 Accuracy column as the y-axis using plotly\n",
    "fig = px.line(df, x='CNN_Alphabet_Scalar', y='Quantized Top1 Accuracy', title='Quantized Top1 Accuracy vs CNN Alphabet Scalar')\n",
    "fig.show()"
   ]
  },
  {
   "cell_type": "code",
   "execution_count": 4,
   "metadata": {},
   "outputs": [
    {
     "data": {
      "application/vnd.plotly.v1+json": {
       "config": {
        "plotlyServerURL": "https://plot.ly"
       },
       "data": [
        {
         "hovertemplate": "CNN_Alphabet_Scalar=%{x}<br>Quantized Top5 Accuracy=%{y}<extra></extra>",
         "legendgroup": "",
         "line": {
          "color": "#636efa",
          "dash": "solid"
         },
         "marker": {
          "symbol": "circle"
         },
         "mode": "lines",
         "name": "",
         "orientation": "v",
         "showlegend": false,
         "type": "scatter",
         "x": [
          1,
          1,
          1.05,
          1.1,
          1.15,
          1.16,
          1.2,
          1.25,
          1.26,
          1.3,
          1.35,
          1.36,
          1.4,
          1.45,
          1.46,
          1.5,
          1.5,
          1.55,
          1.56,
          1.6,
          1.65,
          1.66,
          1.7,
          1.75,
          1.76,
          1.8,
          1.85,
          1.86,
          1.9,
          1.95,
          2
         ],
         "xaxis": "x",
         "y": [
          0.9953,
          0.9961,
          0.997,
          0.9965,
          0.9964,
          0.9972,
          0.997,
          0.9969,
          0.9962,
          0.9973,
          0.9972,
          0.9971,
          0.9969,
          0.9972,
          0.997,
          0.9968,
          0.9967,
          0.9971,
          0.9963,
          0.9973,
          0.9966,
          0.9972,
          0.9971,
          0.997,
          0.9968,
          0.9963,
          0.9974,
          0.9967,
          0.9974,
          0.9964,
          0.9965
         ],
         "yaxis": "y"
        }
       ],
       "layout": {
        "legend": {
         "tracegroupgap": 0
        },
        "template": {
         "data": {
          "bar": [
           {
            "error_x": {
             "color": "#2a3f5f"
            },
            "error_y": {
             "color": "#2a3f5f"
            },
            "marker": {
             "line": {
              "color": "#E5ECF6",
              "width": 0.5
             },
             "pattern": {
              "fillmode": "overlay",
              "size": 10,
              "solidity": 0.2
             }
            },
            "type": "bar"
           }
          ],
          "barpolar": [
           {
            "marker": {
             "line": {
              "color": "#E5ECF6",
              "width": 0.5
             },
             "pattern": {
              "fillmode": "overlay",
              "size": 10,
              "solidity": 0.2
             }
            },
            "type": "barpolar"
           }
          ],
          "carpet": [
           {
            "aaxis": {
             "endlinecolor": "#2a3f5f",
             "gridcolor": "white",
             "linecolor": "white",
             "minorgridcolor": "white",
             "startlinecolor": "#2a3f5f"
            },
            "baxis": {
             "endlinecolor": "#2a3f5f",
             "gridcolor": "white",
             "linecolor": "white",
             "minorgridcolor": "white",
             "startlinecolor": "#2a3f5f"
            },
            "type": "carpet"
           }
          ],
          "choropleth": [
           {
            "colorbar": {
             "outlinewidth": 0,
             "ticks": ""
            },
            "type": "choropleth"
           }
          ],
          "contour": [
           {
            "colorbar": {
             "outlinewidth": 0,
             "ticks": ""
            },
            "colorscale": [
             [
              0,
              "#0d0887"
             ],
             [
              0.1111111111111111,
              "#46039f"
             ],
             [
              0.2222222222222222,
              "#7201a8"
             ],
             [
              0.3333333333333333,
              "#9c179e"
             ],
             [
              0.4444444444444444,
              "#bd3786"
             ],
             [
              0.5555555555555556,
              "#d8576b"
             ],
             [
              0.6666666666666666,
              "#ed7953"
             ],
             [
              0.7777777777777778,
              "#fb9f3a"
             ],
             [
              0.8888888888888888,
              "#fdca26"
             ],
             [
              1,
              "#f0f921"
             ]
            ],
            "type": "contour"
           }
          ],
          "contourcarpet": [
           {
            "colorbar": {
             "outlinewidth": 0,
             "ticks": ""
            },
            "type": "contourcarpet"
           }
          ],
          "heatmap": [
           {
            "colorbar": {
             "outlinewidth": 0,
             "ticks": ""
            },
            "colorscale": [
             [
              0,
              "#0d0887"
             ],
             [
              0.1111111111111111,
              "#46039f"
             ],
             [
              0.2222222222222222,
              "#7201a8"
             ],
             [
              0.3333333333333333,
              "#9c179e"
             ],
             [
              0.4444444444444444,
              "#bd3786"
             ],
             [
              0.5555555555555556,
              "#d8576b"
             ],
             [
              0.6666666666666666,
              "#ed7953"
             ],
             [
              0.7777777777777778,
              "#fb9f3a"
             ],
             [
              0.8888888888888888,
              "#fdca26"
             ],
             [
              1,
              "#f0f921"
             ]
            ],
            "type": "heatmap"
           }
          ],
          "heatmapgl": [
           {
            "colorbar": {
             "outlinewidth": 0,
             "ticks": ""
            },
            "colorscale": [
             [
              0,
              "#0d0887"
             ],
             [
              0.1111111111111111,
              "#46039f"
             ],
             [
              0.2222222222222222,
              "#7201a8"
             ],
             [
              0.3333333333333333,
              "#9c179e"
             ],
             [
              0.4444444444444444,
              "#bd3786"
             ],
             [
              0.5555555555555556,
              "#d8576b"
             ],
             [
              0.6666666666666666,
              "#ed7953"
             ],
             [
              0.7777777777777778,
              "#fb9f3a"
             ],
             [
              0.8888888888888888,
              "#fdca26"
             ],
             [
              1,
              "#f0f921"
             ]
            ],
            "type": "heatmapgl"
           }
          ],
          "histogram": [
           {
            "marker": {
             "pattern": {
              "fillmode": "overlay",
              "size": 10,
              "solidity": 0.2
             }
            },
            "type": "histogram"
           }
          ],
          "histogram2d": [
           {
            "colorbar": {
             "outlinewidth": 0,
             "ticks": ""
            },
            "colorscale": [
             [
              0,
              "#0d0887"
             ],
             [
              0.1111111111111111,
              "#46039f"
             ],
             [
              0.2222222222222222,
              "#7201a8"
             ],
             [
              0.3333333333333333,
              "#9c179e"
             ],
             [
              0.4444444444444444,
              "#bd3786"
             ],
             [
              0.5555555555555556,
              "#d8576b"
             ],
             [
              0.6666666666666666,
              "#ed7953"
             ],
             [
              0.7777777777777778,
              "#fb9f3a"
             ],
             [
              0.8888888888888888,
              "#fdca26"
             ],
             [
              1,
              "#f0f921"
             ]
            ],
            "type": "histogram2d"
           }
          ],
          "histogram2dcontour": [
           {
            "colorbar": {
             "outlinewidth": 0,
             "ticks": ""
            },
            "colorscale": [
             [
              0,
              "#0d0887"
             ],
             [
              0.1111111111111111,
              "#46039f"
             ],
             [
              0.2222222222222222,
              "#7201a8"
             ],
             [
              0.3333333333333333,
              "#9c179e"
             ],
             [
              0.4444444444444444,
              "#bd3786"
             ],
             [
              0.5555555555555556,
              "#d8576b"
             ],
             [
              0.6666666666666666,
              "#ed7953"
             ],
             [
              0.7777777777777778,
              "#fb9f3a"
             ],
             [
              0.8888888888888888,
              "#fdca26"
             ],
             [
              1,
              "#f0f921"
             ]
            ],
            "type": "histogram2dcontour"
           }
          ],
          "mesh3d": [
           {
            "colorbar": {
             "outlinewidth": 0,
             "ticks": ""
            },
            "type": "mesh3d"
           }
          ],
          "parcoords": [
           {
            "line": {
             "colorbar": {
              "outlinewidth": 0,
              "ticks": ""
             }
            },
            "type": "parcoords"
           }
          ],
          "pie": [
           {
            "automargin": true,
            "type": "pie"
           }
          ],
          "scatter": [
           {
            "fillpattern": {
             "fillmode": "overlay",
             "size": 10,
             "solidity": 0.2
            },
            "type": "scatter"
           }
          ],
          "scatter3d": [
           {
            "line": {
             "colorbar": {
              "outlinewidth": 0,
              "ticks": ""
             }
            },
            "marker": {
             "colorbar": {
              "outlinewidth": 0,
              "ticks": ""
             }
            },
            "type": "scatter3d"
           }
          ],
          "scattercarpet": [
           {
            "marker": {
             "colorbar": {
              "outlinewidth": 0,
              "ticks": ""
             }
            },
            "type": "scattercarpet"
           }
          ],
          "scattergeo": [
           {
            "marker": {
             "colorbar": {
              "outlinewidth": 0,
              "ticks": ""
             }
            },
            "type": "scattergeo"
           }
          ],
          "scattergl": [
           {
            "marker": {
             "colorbar": {
              "outlinewidth": 0,
              "ticks": ""
             }
            },
            "type": "scattergl"
           }
          ],
          "scattermapbox": [
           {
            "marker": {
             "colorbar": {
              "outlinewidth": 0,
              "ticks": ""
             }
            },
            "type": "scattermapbox"
           }
          ],
          "scatterpolar": [
           {
            "marker": {
             "colorbar": {
              "outlinewidth": 0,
              "ticks": ""
             }
            },
            "type": "scatterpolar"
           }
          ],
          "scatterpolargl": [
           {
            "marker": {
             "colorbar": {
              "outlinewidth": 0,
              "ticks": ""
             }
            },
            "type": "scatterpolargl"
           }
          ],
          "scatterternary": [
           {
            "marker": {
             "colorbar": {
              "outlinewidth": 0,
              "ticks": ""
             }
            },
            "type": "scatterternary"
           }
          ],
          "surface": [
           {
            "colorbar": {
             "outlinewidth": 0,
             "ticks": ""
            },
            "colorscale": [
             [
              0,
              "#0d0887"
             ],
             [
              0.1111111111111111,
              "#46039f"
             ],
             [
              0.2222222222222222,
              "#7201a8"
             ],
             [
              0.3333333333333333,
              "#9c179e"
             ],
             [
              0.4444444444444444,
              "#bd3786"
             ],
             [
              0.5555555555555556,
              "#d8576b"
             ],
             [
              0.6666666666666666,
              "#ed7953"
             ],
             [
              0.7777777777777778,
              "#fb9f3a"
             ],
             [
              0.8888888888888888,
              "#fdca26"
             ],
             [
              1,
              "#f0f921"
             ]
            ],
            "type": "surface"
           }
          ],
          "table": [
           {
            "cells": {
             "fill": {
              "color": "#EBF0F8"
             },
             "line": {
              "color": "white"
             }
            },
            "header": {
             "fill": {
              "color": "#C8D4E3"
             },
             "line": {
              "color": "white"
             }
            },
            "type": "table"
           }
          ]
         },
         "layout": {
          "annotationdefaults": {
           "arrowcolor": "#2a3f5f",
           "arrowhead": 0,
           "arrowwidth": 1
          },
          "autotypenumbers": "strict",
          "coloraxis": {
           "colorbar": {
            "outlinewidth": 0,
            "ticks": ""
           }
          },
          "colorscale": {
           "diverging": [
            [
             0,
             "#8e0152"
            ],
            [
             0.1,
             "#c51b7d"
            ],
            [
             0.2,
             "#de77ae"
            ],
            [
             0.3,
             "#f1b6da"
            ],
            [
             0.4,
             "#fde0ef"
            ],
            [
             0.5,
             "#f7f7f7"
            ],
            [
             0.6,
             "#e6f5d0"
            ],
            [
             0.7,
             "#b8e186"
            ],
            [
             0.8,
             "#7fbc41"
            ],
            [
             0.9,
             "#4d9221"
            ],
            [
             1,
             "#276419"
            ]
           ],
           "sequential": [
            [
             0,
             "#0d0887"
            ],
            [
             0.1111111111111111,
             "#46039f"
            ],
            [
             0.2222222222222222,
             "#7201a8"
            ],
            [
             0.3333333333333333,
             "#9c179e"
            ],
            [
             0.4444444444444444,
             "#bd3786"
            ],
            [
             0.5555555555555556,
             "#d8576b"
            ],
            [
             0.6666666666666666,
             "#ed7953"
            ],
            [
             0.7777777777777778,
             "#fb9f3a"
            ],
            [
             0.8888888888888888,
             "#fdca26"
            ],
            [
             1,
             "#f0f921"
            ]
           ],
           "sequentialminus": [
            [
             0,
             "#0d0887"
            ],
            [
             0.1111111111111111,
             "#46039f"
            ],
            [
             0.2222222222222222,
             "#7201a8"
            ],
            [
             0.3333333333333333,
             "#9c179e"
            ],
            [
             0.4444444444444444,
             "#bd3786"
            ],
            [
             0.5555555555555556,
             "#d8576b"
            ],
            [
             0.6666666666666666,
             "#ed7953"
            ],
            [
             0.7777777777777778,
             "#fb9f3a"
            ],
            [
             0.8888888888888888,
             "#fdca26"
            ],
            [
             1,
             "#f0f921"
            ]
           ]
          },
          "colorway": [
           "#636efa",
           "#EF553B",
           "#00cc96",
           "#ab63fa",
           "#FFA15A",
           "#19d3f3",
           "#FF6692",
           "#B6E880",
           "#FF97FF",
           "#FECB52"
          ],
          "font": {
           "color": "#2a3f5f"
          },
          "geo": {
           "bgcolor": "white",
           "lakecolor": "white",
           "landcolor": "#E5ECF6",
           "showlakes": true,
           "showland": true,
           "subunitcolor": "white"
          },
          "hoverlabel": {
           "align": "left"
          },
          "hovermode": "closest",
          "mapbox": {
           "style": "light"
          },
          "paper_bgcolor": "white",
          "plot_bgcolor": "#E5ECF6",
          "polar": {
           "angularaxis": {
            "gridcolor": "white",
            "linecolor": "white",
            "ticks": ""
           },
           "bgcolor": "#E5ECF6",
           "radialaxis": {
            "gridcolor": "white",
            "linecolor": "white",
            "ticks": ""
           }
          },
          "scene": {
           "xaxis": {
            "backgroundcolor": "#E5ECF6",
            "gridcolor": "white",
            "gridwidth": 2,
            "linecolor": "white",
            "showbackground": true,
            "ticks": "",
            "zerolinecolor": "white"
           },
           "yaxis": {
            "backgroundcolor": "#E5ECF6",
            "gridcolor": "white",
            "gridwidth": 2,
            "linecolor": "white",
            "showbackground": true,
            "ticks": "",
            "zerolinecolor": "white"
           },
           "zaxis": {
            "backgroundcolor": "#E5ECF6",
            "gridcolor": "white",
            "gridwidth": 2,
            "linecolor": "white",
            "showbackground": true,
            "ticks": "",
            "zerolinecolor": "white"
           }
          },
          "shapedefaults": {
           "line": {
            "color": "#2a3f5f"
           }
          },
          "ternary": {
           "aaxis": {
            "gridcolor": "white",
            "linecolor": "white",
            "ticks": ""
           },
           "baxis": {
            "gridcolor": "white",
            "linecolor": "white",
            "ticks": ""
           },
           "bgcolor": "#E5ECF6",
           "caxis": {
            "gridcolor": "white",
            "linecolor": "white",
            "ticks": ""
           }
          },
          "title": {
           "x": 0.05
          },
          "xaxis": {
           "automargin": true,
           "gridcolor": "white",
           "linecolor": "white",
           "ticks": "",
           "title": {
            "standoff": 15
           },
           "zerolinecolor": "white",
           "zerolinewidth": 2
          },
          "yaxis": {
           "automargin": true,
           "gridcolor": "white",
           "linecolor": "white",
           "ticks": "",
           "title": {
            "standoff": 15
           },
           "zerolinecolor": "white",
           "zerolinewidth": 2
          }
         }
        },
        "title": {
         "text": "Quantized Top5 Accuracy vs CNN Alphabet Scalar"
        },
        "xaxis": {
         "anchor": "y",
         "domain": [
          0,
          1
         ],
         "title": {
          "text": "CNN_Alphabet_Scalar"
         }
        },
        "yaxis": {
         "anchor": "x",
         "domain": [
          0,
          1
         ],
         "title": {
          "text": "Quantized Top5 Accuracy"
         }
        }
       }
      }
     },
     "metadata": {},
     "output_type": "display_data"
    }
   ],
   "source": [
    "# plot a line graph with the CNN_Alphabet_Scalar column as the x-axis and the Quantized Top5 Accuracy column as the y-axis using plotly\n",
    "fig = px.line(df, x='CNN_Alphabet_Scalar', y='Quantized Top5 Accuracy', title='Quantized Top5 Accuracy vs CNN Alphabet Scalar')\n",
    "fig.show()"
   ]
  },
  {
   "cell_type": "code",
   "execution_count": 5,
   "metadata": {},
   "outputs": [],
   "source": [
    "# !pip install --upgrade nbformat"
   ]
  },
  {
   "cell_type": "code",
   "execution_count": 6,
   "metadata": {},
   "outputs": [
    {
     "data": {
      "image/png": "[encoded data removed]",
      "text/plain": [
       "<Figure size 640x480 with 1 Axes>"
      ]
     },
     "metadata": {},
     "output_type": "display_data"
    }
   ],
   "source": [
    "# plot a line graph with the CNN_Alphabet_Scalar column as the x-axis and the Quantized Top1 Accuracy column as the y-axis using matplotlib\n",
    "plt.plot(df['CNN_Alphabet_Scalar'], df['Quantized Top1 Accuracy'])\n",
    "plt.xlabel('CNN Alphabet Scalar')\n",
    "plt.ylabel('Quantized Top1 Accuracy')\n",
    "plt.title('Quantized Top1 Accuracy vs CNN Alphabet Scalar')\n",
    "plt.show()"
   ]
  },
  {
   "cell_type": "code",
   "execution_count": 7,
   "metadata": {},
   "outputs": [
    {
     "data": {
      "image/png": "[encoded data removed]",
      "text/plain": [
       "<Figure size 640x480 with 1 Axes>"
      ]
     },
     "metadata": {},
     "output_type": "display_data"
    }
   ],
   "source": [
    "# plot a line graph with the CNN_Alphabet_Scalar column as the x-axis and the Quantized Top5 Accuracy column as the y-axis using matplotlib\n",
    "plt.plot(df['CNN_Alphabet_Scalar'], df['Quantized Top5 Accuracy'])\n",
    "plt.xlabel('CNN Alphabet Scalar')\n",
    "plt.ylabel('Quantized Top5 Accuracy')\n",
    "plt.title('Quantized Top5 Accuracy vs CNN Alphabet Scalar')\n",
    "plt.show()"
   ]
  },
  {
   "cell_type": "code",
   "execution_count": null,
   "metadata": {},
   "outputs": [],
   "source": [
    "# plot a line graph with the CNN_Alphabet_Scalar column as the x-axis and the Quantized Top1 Accuracy column as the y-axis using matplotlib"
   ]
  }
 ],
 "metadata": {
  "kernelspec": {
   "display_name": "quantize",
   "language": "python",
   "name": "python3"
  },
  "language_info": {
   "codemirror_mode": {
    "name": "ipython",
    "version": 3
   },
   "file_extension": ".py",
   "mimetype": "text/x-python",
   "name": "python",
   "nbconvert_exporter": "python",
   "pygments_lexer": "ipython3",
   "version": "3.8.20"
  }
 },
 "nbformat": 4,
 "nbformat_minor": 2
}
